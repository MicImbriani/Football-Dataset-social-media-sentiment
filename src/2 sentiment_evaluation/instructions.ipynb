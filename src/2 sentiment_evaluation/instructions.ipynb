{
 "cells": [
  {
   "cell_type": "markdown",
   "metadata": {},
   "source": [
    "# Annotation Description\n",
    "\n",
    "#### Task\n",
    "We would like to capture the sentiment of Twitter tweets related to soccer players. The sentiment of tweets can either be __negative__, __neutral__, __positive__, __other__. The other label is if you can't classify the tweet as positive, neutral or negative for the soccer player in question. There is a link (named \"URL\") for each tweet which you should go to, and when you have decided on a sentiment, go back to Label Studio and select the sentiment. As a shortcut to open the tweet in a new browser tab you can hold in the Ctrl key and click the link. For Mac this shortcut is COMMAND and then click the link.\n",
    "\n",
    "#### Instructions\n",
    "Label the tweet according to the sentiment of the player in question. You can only choose one sentiment (negative, neutral, positive or other). If you have any comments you can type it in the input text area below the sentiment categories.\n",
    "\n",
    "**Language**\n",
    "\n",
    "If the language of the tweet is not English, the tweet are categorized as \"other\". Add a comment pointing this out.\n",
    "\n",
    "**Hashtags**\n",
    "\n",
    "The sentiment of the hashtag influences the overall sentiment of the tweet. However if the sentiment of the hashtag are neutral, e.g. \"#UCL\" for \"UEFA Champions League\", this should not influence the sentiment of the rest of the tweet, as many hashtags are used categorization.\n",
    "\n",
    "**Images**\n",
    "\n",
    "The sentiment of any picture, images, GIF's or links affects the overall sentiment. Memes should heavily influence the sentiment as these are by definition humorous in nature. Neutral images should not influence the sentiment of the tweet, e.g. an image of a soccer player during the match passing the ball to another player.\n",
    "\n",
    "**Emojis**\n",
    "\n",
    "Emojis should influence the sentiment of the overall tweet.\n",
    "\n",
    "**Ambigous tweets**\n",
    "\n",
    "If the sentence is ambigous and you are in doubt about the sentiment, mark it as other and write a comment stating your concerns.\n",
    "\n",
    "**News facts**\n",
    "\n",
    "If the tweet is about a new e.g. \"Messi scores 1 goal last game\" we treat it as neutral as 1 goal might neither be positive or negative for a player like Messi. But if the news is about \"Messi scored 10 goals the last 3 games\" this might be a positive sentiment as there is an implicit positive mention about the player.\n",
    "\n",
    "**Comparisons across players**\n",
    "\n",
    "List rankings/comparisons of players are generally positive, unless the annotator deems it to be another sentiment in the context of the tweet. For other comparisons like \"Ronaldo vs Messi\" it is up to the annotator to judge the sentiment.\n",
    "\n",
    "**Other vs neutral sentiment**\n",
    "\n",
    "If the player is just mentioned in the context but there is not direct sentiment towards the player we label the tweet as \"neutral\".\n",
    "\n",
    "\n",
    "![instructions image](instructions_image.png)"
   ]
  },
  {
   "cell_type": "markdown",
   "metadata": {},
   "source": []
  }
 ],
 "metadata": {
  "kernelspec": {
   "display_name": "Python 3.10.4 ('dataWild')",
   "language": "python",
   "name": "python3"
  },
  "language_info": {
   "codemirror_mode": {
    "name": "ipython",
    "version": 3
   },
   "file_extension": ".py",
   "mimetype": "text/x-python",
   "name": "python",
   "nbconvert_exporter": "python",
   "pygments_lexer": "ipython3",
   "version": "3.10.4"
  },
  "orig_nbformat": 4,
  "vscode": {
   "interpreter": {
    "hash": "a8c0e2369a218edac00c595c539f0b28cb8865fad4fb946be064715462b040ee"
   }
  }
 },
 "nbformat": 4,
 "nbformat_minor": 2
}
